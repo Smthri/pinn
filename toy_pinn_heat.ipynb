{
 "cells": [
  {
   "cell_type": "code",
   "execution_count": 2,
   "id": "fe615b9f-75b8-4d14-a39d-7908acca2c28",
   "metadata": {
    "execution": {
     "iopub.execute_input": "2024-10-05T09:19:52.302645Z",
     "iopub.status.busy": "2024-10-05T09:19:52.302096Z",
     "iopub.status.idle": "2024-10-05T09:19:53.531505Z",
     "shell.execute_reply": "2024-10-05T09:19:53.530542Z",
     "shell.execute_reply.started": "2024-10-05T09:19:52.302595Z"
    }
   },
   "outputs": [],
   "source": [
    "import torch\n",
    "import torch.nn as nn"
   ]
  },
  {
   "cell_type": "code",
   "execution_count": 3,
   "id": "3c227118-ffa7-4235-843f-f6897bc47c9f",
   "metadata": {
    "execution": {
     "iopub.execute_input": "2024-10-05T09:19:54.219434Z",
     "iopub.status.busy": "2024-10-05T09:19:54.218965Z",
     "iopub.status.idle": "2024-10-05T09:19:54.224164Z",
     "shell.execute_reply": "2024-10-05T09:19:54.223178Z",
     "shell.execute_reply.started": "2024-10-05T09:19:54.219401Z"
    }
   },
   "outputs": [],
   "source": [
    "device='cuda:1'"
   ]
  },
  {
   "cell_type": "code",
   "execution_count": 4,
   "id": "b9f47790-87f5-41c1-87b8-76f9ee980a1d",
   "metadata": {
    "execution": {
     "iopub.execute_input": "2024-10-05T09:19:54.911203Z",
     "iopub.status.busy": "2024-10-05T09:19:54.910592Z",
     "iopub.status.idle": "2024-10-05T09:19:54.928559Z",
     "shell.execute_reply": "2024-10-05T09:19:54.927391Z",
     "shell.execute_reply.started": "2024-10-05T09:19:54.911153Z"
    }
   },
   "outputs": [],
   "source": [
    "class Net(nn.Module):\n",
    "    def __init__(self):\n",
    "        super(Net, self).__init__()\n",
    "        self.w1 = nn.Linear(2, 1024)\n",
    "        self.a1 = nn.Tanh()\n",
    "        self.w2 = nn.Linear(1024, 1024)\n",
    "        self.a2 = nn.Tanh()\n",
    "        self.w3 = nn.Linear(1024, 1024)\n",
    "        self.a3 = nn.Tanh()\n",
    "        self.w4 = nn.Linear(1024, 1)\n",
    "\n",
    "    def forward(self, x, t):\n",
    "        u = torch.cat((x, t), dim=1)\n",
    "        u = self.w1(u)\n",
    "        u = self.a1(u)\n",
    "\n",
    "        u = self.w2(u)\n",
    "        u = self.a2(u)\n",
    "        u = self.w3(u)\n",
    "        u = self.a3(u)\n",
    "        u = self.w4(u)\n",
    "        return u"
   ]
  },
  {
   "cell_type": "code",
   "execution_count": 13,
   "id": "a340320c-cdbf-4e47-a71d-d6a45cad6f79",
   "metadata": {
    "execution": {
     "iopub.execute_input": "2024-10-05T09:24:26.766270Z",
     "iopub.status.busy": "2024-10-05T09:24:26.765699Z",
     "iopub.status.idle": "2024-10-05T09:24:26.819603Z",
     "shell.execute_reply": "2024-10-05T09:24:26.818616Z",
     "shell.execute_reply.started": "2024-10-05T09:24:26.766219Z"
    }
   },
   "outputs": [
    {
     "data": {
      "text/plain": [
       "Net(\n",
       "  (w1): Linear(in_features=2, out_features=1024, bias=True)\n",
       "  (a1): Tanh()\n",
       "  (w2): Linear(in_features=1024, out_features=1024, bias=True)\n",
       "  (a2): Tanh()\n",
       "  (w3): Linear(in_features=1024, out_features=1024, bias=True)\n",
       "  (a3): Tanh()\n",
       "  (w4): Linear(in_features=1024, out_features=1, bias=True)\n",
       ")"
      ]
     },
     "execution_count": 13,
     "metadata": {},
     "output_type": "execute_result"
    }
   ],
   "source": [
    "net = Net()\n",
    "net.to(device)"
   ]
  },
  {
   "cell_type": "code",
   "execution_count": 14,
   "id": "98a05b58-e216-4299-a46e-e977752a5ed1",
   "metadata": {
    "execution": {
     "iopub.execute_input": "2024-10-05T09:24:26.950924Z",
     "iopub.status.busy": "2024-10-05T09:24:26.950461Z",
     "iopub.status.idle": "2024-10-05T09:24:26.961645Z",
     "shell.execute_reply": "2024-10-05T09:24:26.960530Z",
     "shell.execute_reply.started": "2024-10-05T09:24:26.950878Z"
    }
   },
   "outputs": [],
   "source": [
    "def solution(x, t):\n",
    "    return torch.exp(-0.4 * torch.pi**2 * t) * torch.sin(torch.pi * x)\n",
    "\n",
    "\n",
    "def heat(iter_num, model, x, t):\n",
    "    u = model(x, t)\n",
    "    u_t = torch.autograd.grad(u, t, grad_outputs=torch.ones_like(u), create_graph=True, retain_graph=True)[0]\n",
    "    u_x = torch.autograd.grad(u, x, grad_outputs=torch.ones_like(u), create_graph=True, retain_graph=True)[0]\n",
    "    u_xx = torch.autograd.grad(u_x, x, grad_outputs=torch.ones_like(u_x), create_graph=True, retain_graph=True)[0]\n",
    "    return u_t - 0.4 * u_xx"
   ]
  },
  {
   "cell_type": "code",
   "execution_count": 15,
   "id": "d49eb375-8c7c-479d-b3f4-722a67eae7fc",
   "metadata": {
    "execution": {
     "iopub.execute_input": "2024-10-05T09:24:27.136469Z",
     "iopub.status.busy": "2024-10-05T09:24:27.135982Z",
     "iopub.status.idle": "2024-10-05T09:24:27.142322Z",
     "shell.execute_reply": "2024-10-05T09:24:27.141414Z",
     "shell.execute_reply.started": "2024-10-05T09:24:27.136433Z"
    }
   },
   "outputs": [],
   "source": [
    "optim = torch.optim.Adam(net.parameters(), lr=1e-3, weight_decay=0.0)\n",
    "scheduler = torch.optim.lr_scheduler.ReduceLROnPlateau(optim, 'min', factor=0.5, patience=5)"
   ]
  },
  {
   "cell_type": "code",
   "execution_count": 16,
   "id": "32f6ab49-61d5-4980-a6ab-c70f836c404a",
   "metadata": {
    "execution": {
     "iopub.execute_input": "2024-10-05T09:24:27.317534Z",
     "iopub.status.busy": "2024-10-05T09:24:27.317140Z",
     "iopub.status.idle": "2024-10-05T09:24:27.322692Z",
     "shell.execute_reply": "2024-10-05T09:24:27.321438Z",
     "shell.execute_reply.started": "2024-10-05T09:24:27.317495Z"
    }
   },
   "outputs": [],
   "source": [
    "iters = 20000\n",
    "batch_size = 256"
   ]
  },
  {
   "cell_type": "code",
   "execution_count": 17,
   "id": "5d5df5b1-83db-48d3-822d-68cefdc3e088",
   "metadata": {
    "execution": {
     "iopub.execute_input": "2024-10-05T09:24:27.773199Z",
     "iopub.status.busy": "2024-10-05T09:24:27.772610Z",
     "iopub.status.idle": "2024-10-05T09:27:20.824762Z",
     "shell.execute_reply": "2024-10-05T09:27:20.823243Z",
     "shell.execute_reply.started": "2024-10-05T09:24:27.773150Z"
    },
    "scrolled": true
   },
   "outputs": [
    {
     "name": "stdout",
     "output_type": "stream",
     "text": [
      "[1000/20000] train loss: 52.1904258728\n",
      "[2000/20000] train loss: 33.4939537048\n",
      "[3000/20000] train loss: 26.9627285004\n",
      "[4000/20000] train loss: 21.6811332703\n",
      "[5000/20000] train loss: 16.7468280792\n",
      "[6000/20000] train loss: 13.9201183319\n",
      "[7000/20000] train loss: 8.7227182388\n",
      "[8000/20000] train loss: 6.2095065117\n",
      "[9000/20000] train loss: 4.5607357025\n",
      "[10000/20000] train loss: 3.5216221809\n",
      "[11000/20000] train loss: 2.8277316093\n",
      "[12000/20000] train loss: 1.9720488787\n",
      "[13000/20000] train loss: 1.5050081015\n",
      "[14000/20000] train loss: 1.0933260918\n",
      "[15000/20000] train loss: 0.9077367783\n",
      "[16000/20000] train loss: 0.5917829275\n",
      "[17000/20000] train loss: 0.5369254351\n",
      "[18000/20000] train loss: 0.3816848993\n",
      "[19000/20000] train loss: 0.3159357011\n",
      "[20000/20000] train loss: 0.2377998531\n"
     ]
    }
   ],
   "source": [
    "for iter in range(iters):\n",
    "    x = torch.rand(batch_size, 1, requires_grad=True) # x in [0, 1)\n",
    "    t = torch.rand(batch_size, 1, requires_grad=True) # t in [0, 1)\n",
    "\n",
    "    x, t = x.to(device), t.to(device)\n",
    "\n",
    "    def closure():\n",
    "        optim.zero_grad()\n",
    "        loss = heat(iter+1, net, x, t) ** 2 + 1.0 * (net(torch.zeros_like(x), t) ** 2 + net(torch.ones_like(x), t) ** 2 + (net(x, torch.zeros_like(t)) - torch.sin(torch.pi * x)) ** 2)\n",
    "        loss = loss.sum(0)\n",
    "        loss.backward()\n",
    "        return loss\n",
    "\n",
    "    loss = optim.step(closure)\n",
    "\n",
    "    iter_num = iter + 1\n",
    "    if iter_num % 1000 == 0:\n",
    "        print(f\"[{iter_num}/{iters}] train loss: {loss.item():<.10f}\")\n",
    "        scheduler.step(loss.item())"
   ]
  },
  {
   "cell_type": "code",
   "execution_count": 18,
   "id": "6fbc83aa-4190-471c-861b-495799921f65",
   "metadata": {
    "execution": {
     "iopub.execute_input": "2024-10-05T09:27:20.827205Z",
     "iopub.status.busy": "2024-10-05T09:27:20.826861Z",
     "iopub.status.idle": "2024-10-05T09:27:20.842050Z",
     "shell.execute_reply": "2024-10-05T09:27:20.841072Z",
     "shell.execute_reply.started": "2024-10-05T09:27:20.827169Z"
    }
   },
   "outputs": [],
   "source": [
    "import numpy as np\n",
    "from matplotlib import pyplot as plt\n",
    "%matplotlib inline\n",
    "\n",
    "net.eval()\n",
    "\n",
    "def plot_solution_preds(t, points=1000):\n",
    "    x = torch.Tensor(np.linspace(0, 1, points))\n",
    "    y = solution(x, torch.full(x.shape, fill_value=t)).numpy()\n",
    "\n",
    "    x_n = x.unsqueeze(1)\n",
    "    x_n = x_n.to(device)\n",
    "    y_n = torch.full(x_n.shape, fill_value=t)\n",
    "    y_n = y_n.to(device)\n",
    "    with torch.no_grad():\n",
    "        pred = net(x_n, y_n).squeeze().cpu().detach().numpy()\n",
    "\n",
    "    plt.figure(figsize=(5, 5))\n",
    "    plt.plot(x, y, label='GT')\n",
    "    plt.plot(x, pred, label='predicted')\n",
    "    plt.title(f\"T = {t:.3f}\")\n",
    "    plt.xlabel(\"x\")\n",
    "    plt.ylabel(f\"u(x, t={t:.3f})\")\n",
    "    plt.ylim([0.0, 1.0])\n",
    "    plt.xlim([0.0, 1.0])\n",
    "    plt.legend()\n",
    "    plt.tight_layout()\n",
    "    plt.savefig(f\"burgers_examples/img_{int(t*1000)}.png\", bbox_inches='tight')\n",
    "    plt.show()\n",
    "    plt.close()"
   ]
  },
  {
   "cell_type": "code",
   "execution_count": 19,
   "id": "14e6b864-5caa-4688-bcf3-ff574cf66de6",
   "metadata": {
    "execution": {
     "iopub.execute_input": "2024-10-05T09:27:20.843446Z",
     "iopub.status.busy": "2024-10-05T09:27:20.842881Z",
     "iopub.status.idle": "2024-10-05T09:27:21.182186Z",
     "shell.execute_reply": "2024-10-05T09:27:21.181164Z",
     "shell.execute_reply.started": "2024-10-05T09:27:20.843424Z"
    }
   },
   "outputs": [
    {
     "data": {
      "image/png": "[encoded data removed]",
      "text/plain": [
       "<Figure size 500x500 with 1 Axes>"
      ]
     },
     "metadata": {},
     "output_type": "display_data"
    }
   ],
   "source": [
    "plot_solution_preds(0.)"
   ]
  },
  {
   "cell_type": "code",
   "execution_count": 20,
   "id": "3e629a07-b418-4a66-ae45-991b36d7630b",
   "metadata": {
    "execution": {
     "iopub.execute_input": "2024-10-05T09:27:21.183752Z",
     "iopub.status.busy": "2024-10-05T09:27:21.183418Z",
     "iopub.status.idle": "2024-10-05T09:27:21.490456Z",
     "shell.execute_reply": "2024-10-05T09:27:21.489307Z",
     "shell.execute_reply.started": "2024-10-05T09:27:21.183730Z"
    }
   },
   "outputs": [
    {
     "data": {
      "image/png": "[encoded data removed]",
      "text/plain": [
       "<Figure size 500x500 with 1 Axes>"
      ]
     },
     "metadata": {},
     "output_type": "display_data"
    }
   ],
   "source": [
    "plot_solution_preds(0.7)"
   ]
  },
  {
   "cell_type": "code",
   "execution_count": 48,
   "id": "5351151e-992c-4e25-9e5f-c85b79b29e4b",
   "metadata": {
    "execution": {
     "iopub.execute_input": "2024-10-05T09:11:16.971620Z",
     "iopub.status.busy": "2024-10-05T09:11:16.971033Z",
     "iopub.status.idle": "2024-10-05T09:11:17.014843Z",
     "shell.execute_reply": "2024-10-05T09:11:17.013678Z",
     "shell.execute_reply.started": "2024-10-05T09:11:16.971567Z"
    }
   },
   "outputs": [],
   "source": [
    "# torch.save(net.state_dict(), \"best_mlp_heat_Adam.ckpt\")"
   ]
  },
  {
   "cell_type": "code",
   "execution_count": 51,
   "id": "a9210323-9dee-4363-a5d0-bc0b050feb2d",
   "metadata": {
    "execution": {
     "iopub.execute_input": "2024-10-05T09:11:49.643637Z",
     "iopub.status.busy": "2024-10-05T09:11:49.643053Z",
     "iopub.status.idle": "2024-10-05T09:14:23.029236Z",
     "shell.execute_reply": "2024-10-05T09:14:23.028479Z",
     "shell.execute_reply.started": "2024-10-05T09:11:49.643582Z"
    },
    "scrolled": true
   },
   "outputs": [
    {
     "name": "stderr",
     "output_type": "stream",
     "text": [
      "100%|███████████████████████████████████████████████████████████████████████████████| 1000/1000 [02:33<00:00,  6.52it/s]\n"
     ]
    }
   ],
   "source": [
    "from tqdm import tqdm\n",
    "\n",
    "for t in tqdm(range(1000)):\n",
    "    plot_solution_preds(t/1000.)"
   ]
  },
  {
   "cell_type": "code",
   "execution_count": 52,
   "id": "c7344adc-f182-43e3-9576-0a7aed0739ff",
   "metadata": {
    "execution": {
     "iopub.execute_input": "2024-10-05T09:14:23.030634Z",
     "iopub.status.busy": "2024-10-05T09:14:23.030333Z",
     "iopub.status.idle": "2024-10-05T09:14:23.040453Z",
     "shell.execute_reply": "2024-10-05T09:14:23.039702Z",
     "shell.execute_reply.started": "2024-10-05T09:14:23.030616Z"
    }
   },
   "outputs": [],
   "source": [
    "from pathlib import Path\n",
    "import imageio"
   ]
  },
  {
   "cell_type": "code",
   "execution_count": 53,
   "id": "dc10bb29-f1da-4ea9-a7c2-d130dd1ec48a",
   "metadata": {
    "execution": {
     "iopub.execute_input": "2024-10-05T09:14:23.041424Z",
     "iopub.status.busy": "2024-10-05T09:14:23.041250Z",
     "iopub.status.idle": "2024-10-05T09:14:36.240978Z",
     "shell.execute_reply": "2024-10-05T09:14:36.240087Z",
     "shell.execute_reply.started": "2024-10-05T09:14:23.041406Z"
    }
   },
   "outputs": [
    {
     "name": "stderr",
     "output_type": "stream",
     "text": [
      "/tmp/ipykernel_15814/1720021472.py:7: DeprecationWarning: Starting with ImageIO v3 the behavior of this function will switch to that of iio.v3.imread. To keep the current behavior (and make this warning disappear) use `import imageio.v2 as imageio` or call `imageio.v2.imread` directly.\n",
      "  images.append(imageio.imread(str(img)))\n"
     ]
    }
   ],
   "source": [
    "img_directory = Path(\"/home/n.lokshin/pinn/burgers_examples\")\n",
    "imgs = [x for x in img_directory.iterdir() if \".png\" in str(x)]\n",
    "imgs = sorted(imgs, key=lambda x: int(str(x).split(\".png\")[0].split(\"img_\")[-1]))\n",
    "images = []\n",
    "for img in imgs:\n",
    "    if \".png\" in str(img):\n",
    "        images.append(imageio.imread(str(img)))\n",
    "imageio.mimsave('movie.gif', images)"
   ]
  },
  {
   "cell_type": "markdown",
   "id": "4a8724ef-7ec1-4600-8d81-bbe6a7352e85",
   "metadata": {
    "execution": {
     "iopub.execute_input": "2024-10-05T09:28:20.475545Z",
     "iopub.status.busy": "2024-10-05T09:28:20.474980Z",
     "iopub.status.idle": "2024-10-05T09:28:22.114978Z",
     "shell.execute_reply": "2024-10-05T09:28:22.114072Z",
     "shell.execute_reply.started": "2024-10-05T09:28:20.475495Z"
    }
   },
   "source": [
    "![SegmentLocal](movie.gif \"RESULT\")"
   ]
  },
  {
   "cell_type": "code",
   "execution_count": null,
   "id": "11841734-dfc1-448f-a774-a547c9e858d0",
   "metadata": {},
   "outputs": [],
   "source": []
  }
 ],
 "metadata": {
  "kernelspec": {
   "display_name": "Python [conda env:torch-fno]",
   "language": "python",
   "name": "conda-env-torch-fno-py"
  },
  "language_info": {
   "codemirror_mode": {
    "name": "ipython",
    "version": 3
   },
   "file_extension": ".py",
   "mimetype": "text/x-python",
   "name": "python",
   "nbconvert_exporter": "python",
   "pygments_lexer": "ipython3",
   "version": "3.9.19"
  }
 },
 "nbformat": 4,
 "nbformat_minor": 5
}
